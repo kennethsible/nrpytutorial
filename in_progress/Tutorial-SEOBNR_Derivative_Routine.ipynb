{
 "cells": [
  {
   "cell_type": "markdown",
   "metadata": {},
   "source": [
    "# Symbolic Partial Derivative Routine\n",
    "\n",
    "## Authors: Zach Etienne & Tyler Knowles\n",
    "\n",
    "## This module contains a routine for computing an analytic partial derivative of a mathematical expression that is written as seveal subexpressions.\n",
    "\n",
    "**Notebook Status:** <font color='red'><b> In progress </b></font>\n",
    "\n",
    "**Validation Notes:** This tutorial notebook has been confirmed to be self-consistent with its corresponding NRPy+ module, as documented [below](#code_validation). Additionally, this notebook has been validated by checking that results are consistent with finite-difference derivative values in [LALSuite](https://git.ligo.org/lscsoft/lalsuite).\n",
    "\n",
    "### NRPy+ Source Code for this module: [SEOBNR_Derivative_Routine.py](../../edit/in_progress/SEOBNR/SEOBNR_Derivative_Routine.py)\n",
    "\n",
    "## Introduction\n",
    "$$\\label{intro}$$\n",
    "\n",
    "This notebook documents the symbolic partial derivative routine used to generate analytic derivatives of the [SEOBNRv3](https://git.ligo.org/lscsoft/lalsuite) Hamiltonian (documented [here](../Tutorial-SEOBNR_Documentation.ipynb)) and described in [this article](https://arxiv.org/abs/1803.06346)."
   ]
  },
  {
   "cell_type": "markdown",
   "metadata": {},
   "source": [
    "<a id='toc'></a>\n",
    "\n",
    "# Table of Contents\n",
    "$$\\label{toc}$$\n",
    "\n",
    "This notebook is organized as follows\n",
    "\n",
    "1. [Step 1](#initializenrpy): Initialize core Python/NRPy+ modules\n",
    "1. [Step 2:](#step2) Read in expressions\n",
    "1. [Step 3:](#step3) Read in constants\n",
    "1. [Step 4:](#step4) List free symbols\n",
    "1. [Step 5:](#step5) Convert expressions to function notation\n",
    "1. [Step 6:](#step6) Differentiate with respect to xx\n",
    "1. [Step 7:](#step7) Simplify derivative expressions\n",
    "1. [Step 9:](#step9) Differentiate with respect to a specific free variable\n",
    "1. [Step 10:](#step10) Compute derivatives with respect to each free variable\n",
    "1. [Step 11:](#step11) Output result\n",
    "1. [Step 12:](#code_validation): Code Validation against `SEOBNR_Derivative_Routine` NRPy+ module\n",
    "1. [Step 13:](#latex_pdf_output) Output this notebook to $\\LaTeX$-formatted PDF file"
   ]
  },
  {
   "cell_type": "markdown",
   "metadata": {},
   "source": [
    "<a id='initializenrpy'></a>\n",
    "\n",
    "# Step 1: Initialize core Python/NRPy+ modules \\[Back to [top](#toc)\\]\n",
    "$$\\label{initializenrpy}$$\n",
    "\n",
    "Let's start by importing all the needed modules from Python/NRPy+:"
   ]
  },
  {
   "cell_type": "code",
   "execution_count": 1,
   "metadata": {},
   "outputs": [],
   "source": [
    "# Step 1.a: import all needed modules from Python/NRPy+:\n",
    "import sympy as sp                # SymPy: The Python computer algebra package upon which NRPy+ depends\n",
    "import os, sys                    # Standard Python modules for multiplatform OS-level functions\n",
    "\n",
    "# Step 1.?: check system path so can use outputC; #TylerK: remove and put outputC back with other imports\n",
    "nrpy_dir_path = os.path.join(\"..\")\n",
    "if nrpy_dir_path not in sys.path:\n",
    "    sys.path.append(nrpy_dir_path)\n",
    "\n",
    "from outputC import *             # TylerK: check what is imported and remove *; also find appropriate description"
   ]
  },
  {
   "cell_type": "markdown",
   "metadata": {},
   "source": [
    "<a id='step2'></a>\n",
    "\n",
    "# Step 2: Read in expressions \\[Back to [top](#toc)\\]\n",
    "$$\\label{step2}$$\n",
    "\n",
    "We read in the expressions of which we will compute partial derivatives in a single large string before splitting the string by line (carriage return) and by \"=\".  Doing so allows us to manipulate the right- and left-hand sides of the expressions appropriately.  We store the left- and right-hand sides in the array $\\texttt{lr}$, which consists of $\\texttt{lhrh}$ arrays with left-hand sides $\\texttt{lhs}$ and right-hand sides $\\texttt{rhs}$.  Note that $\\texttt{Lambda}$ is a protected keyword in Python, so the variable $\\Lambda$ in the Hamiltonian is renamed $\\texttt{Lamb}$."
   ]
  },
  {
   "cell_type": "code",
   "execution_count": 2,
   "metadata": {},
   "outputs": [
    {
     "name": "stdout",
     "output_type": "stream",
     "text": [
      "lr =  [lhrh(lhs='r', rhs='x*x+y*y+eta'), lhrh(lhs='csi', rhs='px+py*pz'), lhrh(lhs='s1dots2', rhs='s1x*s2x+s1y*s2y+s1z*s2z'), lhrh(lhs='u', rhs='1/r'), lhrh(lhs='omega', rhs='sqrt(r)')]\n",
      "string_lines =  ['r = x*x + y*y + eta', 'csi = px + py*pz', 's1dots2 = s1x*s2x + s1y*s2y +s1z*s2z', 'u = 1/r', 'omega = sp.sqrt(r)']\n",
      "lhss =  [r, csi, s1dots2, u, omega]\n",
      "rhss =  [eta + x**2 + y**2, px + py*pz, s1x*s2x + s1y*s2y + s1z*s2z, 1/r, sqrt(r)]\n",
      "dynamic_variables =  ['x', 'y', 'z', 'px', 'py', 'pz', 's1x', 's1y', 's1z', 's2x', 's2y', 's2z']\n"
     ]
    }
   ],
   "source": [
    "# Step 2.a: Read in expressions as a (single) string\n",
    "with open('SEOBNR/Hamstring_lite.txt', 'r') as file:\n",
    "    all_expressions = file.read()\n",
    "\n",
    "# Step 2.b: Split the expression string by carriage returns\n",
    "string_lines = all_expressions.splitlines()\n",
    "\n",
    "# Step 2.c: Create and populate the \"lr\" array, which separates each line into left- and right-hand sides\n",
    "#   Each entry is a string of the form lhrh(lhs='',rhs='')\n",
    "lr = []\n",
    "\n",
    "for i in range(len(string_lines)):\n",
    "    # Ignore lines with 2 or fewer characters and those starting with #\n",
    "    if len(string_lines[i]) > 2 and string_lines[i][0] != \"#\":\n",
    "        # Split each line by its equals sign\n",
    "        split_line = string_lines[i].split(\"=\")\n",
    "        # Append the line to \"lr\", removing spaces, \"sp.\" prefixes, and replacing Lambda->Lamb\n",
    "        #   (Lambda is a protected keyword):\n",
    "        lr.append(lhrh(lhs=split_line[0].replace(\" \",\"\").replace(\"Lambda\",\"Lamb\"),\n",
    "                       rhs=split_line[1].replace(\" \",\"\").replace(\"sp.\",\"\").replace(\"Lambda\",\"Lamb\")))\n",
    "\n",
    "# Step 2.d: Separate and simplify right- and left-hand sides into separate arrays\n",
    "lhss = []\n",
    "rhss = []\n",
    "for i in range(len(lr)):\n",
    "    lhss.append(sp.sympify(lr[i].lhs))\n",
    "    rhss.append(sp.sympify(lr[i].rhs))\n",
    "\n",
    "# Step 2.e: Read in variables with which to take derivatives\n",
    "with open('SEOBNR/Hamstring_variables.txt', 'r') as file:\n",
    "    variables = file.read()\n",
    "# Step 2.f: Split the variable string by carriage returns\n",
    "dynamic_variables = variables.splitlines()\n",
    "\n",
    "#TylerK: print for debuggin\n",
    "print(\"lr = \",lr)\n",
    "print(\"string_lines = \",string_lines)\n",
    "print(\"lhss = \",lhss)\n",
    "print(\"rhss = \",rhss)\n",
    "print(\"dynamic_variables = \",dynamic_variables)"
   ]
  },
  {
   "cell_type": "markdown",
   "metadata": {},
   "source": [
    "<a id='step3'></a>\n",
    "\n",
    "# Step 3: Read in constants \\[Back to [top](#toc)\\]\n",
    "$$\\label{step3}$$\n",
    "\n",
    "We declare the constant values; derivatives with respect to these variables will be set to zero."
   ]
  },
  {
   "cell_type": "code",
   "execution_count": 3,
   "metadata": {},
   "outputs": [
    {
     "name": "stdout",
     "output_type": "stream",
     "text": [
      "input_constants =  [eta]\n"
     ]
    }
   ],
   "source": [
    "# Step 3.a: Read in constants as a (single) string\n",
    "with open('SEOBNR/Hamstring_constants.txt', 'r') as file:\n",
    "    constants = file.read()\n",
    "\n",
    "# Step 3.b: Split the input string by carriage returns\n",
    "constants_as_strings = constants.splitlines()\n",
    "\n",
    "# Step 3.c: Create \"input_constants\" array and populate with SymPy constants\n",
    "input_constants = []\n",
    "for constant in constants_as_strings:\n",
    "    constant = sp.symbols(constant,real=True)\n",
    "    input_constants.append(constant)\n",
    "\n",
    "#TylerK: print for debuggin\n",
    "print(\"input_constants = \",input_constants)"
   ]
  },
  {
   "cell_type": "markdown",
   "metadata": {},
   "source": [
    "<a id='step4'></a>\n",
    "\n",
    "# Step 4: List free symbols \\[Back to [top](#toc)\\]\n",
    "$$\\label{step4}$$\n",
    "\n",
    "By ''free symbols'' we mean the variables in the right-hand sides.  We first create a list of all such terms (using SymPy's built-in free_symbol attribute), including duplicates, and then strip the duplicates.  We then remove input constants from the symbol list."
   ]
  },
  {
   "cell_type": "code",
   "execution_count": 4,
   "metadata": {},
   "outputs": [
    {
     "name": "stdout",
     "output_type": "stream",
     "text": [
      "full_symbol_list_with_dups =  [eta, x, y, pz, py, px, s1y, s2y, s1x, s1z, s2z, s2x, r, r]\n",
      "full_symbol_list =  [x, y, pz, py, px, s1y, s2y, s1x, s1z, s2z, s2x, r]\n"
     ]
    }
   ],
   "source": [
    "# Step 4.a: Prepare array of \"free symbols\" in the right-hand side expressions\n",
    "full_symbol_list_with_dups = []\n",
    "for i in range(len(lr)):\n",
    "    for variable in rhss[i].free_symbols:\n",
    "        full_symbol_list_with_dups.append(variable)\n",
    "\n",
    "# Step 4.b: Remove duplicate free symbols\n",
    "full_symbol_list = superfast_uniq(full_symbol_list_with_dups)\n",
    "\n",
    "# Step 4.c: Remove input constants from symbol list\n",
    "for inputconst in input_constants:\n",
    "    for symbol in full_symbol_list:\n",
    "        if str(symbol) == str(inputconst):\n",
    "            full_symbol_list.remove(symbol)\n",
    "\n",
    "# TylerK: print for debuggin\n",
    "print(\"full_symbol_list_with_dups = \",full_symbol_list_with_dups)\n",
    "print(\"full_symbol_list = \",full_symbol_list)"
   ]
  },
  {
   "cell_type": "markdown",
   "metadata": {},
   "source": [
    "<a id='step5'></a>\n",
    "\n",
    "# Step 5: Convert expressions to function notation \\[Back to [top](#toc)\\]\n",
    "$$\\label{step5}$$\n",
    "\n",
    "In order to compute the partial derivative of each right-hand side, we mark each variable (left-hand side) and each free symbol (in right-hand sides) as a function with argument $\\texttt{xx}$."
   ]
  },
  {
   "cell_type": "code",
   "execution_count": 5,
   "metadata": {},
   "outputs": [
    {
     "name": "stdout",
     "output_type": "stream",
     "text": [
      "func =  [r(xx), csi(xx), s1dots2(xx), u(xx), omega(xx)]\n",
      "full_function_list =  [x(xx), y(xx), pz(xx), py(xx), px(xx), s1y(xx), s2y(xx), s1x(xx), s1z(xx), s2z(xx), s2x(xx), r(xx)]\n"
     ]
    }
   ],
   "source": [
    "# Step 5.a: Convert each left-hand side to function notation\n",
    "#   while separating and simplifying left- and right-hand sides\n",
    "xx = sp.Symbol('xx')\n",
    "func = []\n",
    "for i in range(len(lr)):\n",
    "    func.append(sp.sympify(sp.Function(lr[i].lhs)(xx)))\n",
    "\n",
    "# TylerK: print for debuggin\n",
    "print(\"func = \",func)\n",
    "\n",
    "# Step 5.b: Mark each free variable as a function with argument xx\n",
    "full_function_list = []\n",
    "for symb in full_symbol_list:\n",
    "    func = sp.sympify(sp.Function(str(symb))(xx))\n",
    "    full_function_list.append(func)\n",
    "    for i in range(len(rhss)):\n",
    "        for var in rhss[i].free_symbols:\n",
    "            if str(var) == str(symb):\n",
    "                rhss[i] = rhss[i].subs(var,func)\n",
    "\n",
    "# TylerK: print for debuggin\n",
    "print(\"full_function_list = \",full_function_list)"
   ]
  },
  {
   "cell_type": "markdown",
   "metadata": {},
   "source": [
    "<a id='step6'></a>\n",
    "\n",
    "# Step 6: Differentiate with respect to xx \\[Back to [top](#toc)\\]\n",
    "$$\\label{step6}$$\n",
    "\n",
    "Now we differentiate the right-hand expressions with respect to $\\textrm{xx}$.  We use the SymPy $\\texttt{diff}$ command, differentiating with respect to $\\texttt{xx}$.  After so doing, we remove $\\texttt{(xx)}$ and \"Derivative\" (which is output by $\\texttt{diff}$, and use \"prm\" suffix to denote the derivative with respect to $\\texttt{xx}$."
   ]
  },
  {
   "cell_type": "code",
   "execution_count": 6,
   "metadata": {},
   "outputs": [
    {
     "name": "stdout",
     "output_type": "stream",
     "text": [
      "lhss_deriv =  [rprm, csiprm, s1dots2prm, uprm, omegaprm]\n",
      "rhss_deriv =  [2*x*xprm + 2*y*yprm, pxprm + py*pzprm + pyprm*pz, s1x*s2xprm + s1xprm*s2x + s1y*s2yprm + s1yprm*s2y + s1z*s2zprm + s1zprm*s2z, -rprm/r**2, rprm/(2*sqrt(r))]\n"
     ]
    }
   ],
   "source": [
    "# Step 6.a: Use SymPy's diff function to differentiate right-hand sides with respect to xx\n",
    "#   and append \"prm\" notation to left-hand sides\n",
    "lhss_deriv = []\n",
    "rhss_deriv = []\n",
    "for i in range(len(rhss)):\n",
    "    lhss_deriv.append(sp.sympify(str(lhss[i])+\"prm\"))\n",
    "    newrhs = sp.sympify(str(sp.diff(rhss[i],xx)).replace(\"(xx)\",\"\").replace(\", xx\",\"prm\").replace(\"Derivative\",\"\"))\n",
    "    rhss_deriv.append(newrhs)\n",
    "\n",
    "#TylerK: for debuggin\n",
    "print(\"lhss_deriv = \",lhss_deriv)\n",
    "print(\"rhss_deriv = \",rhss_deriv)"
   ]
  },
  {
   "cell_type": "markdown",
   "metadata": {},
   "source": [
    "<a id='step7'></a>\n",
    "\n",
    "# Step 7: Simplify derivative expressions \\[Back to [top](#toc)\\]\n",
    "$$\\label{step7}$$\n",
    "\n",
    "We declare a function to simply the derivative expressions.  In particular, we want to remove terms equal to zero."
   ]
  },
  {
   "cell_type": "code",
   "execution_count": 7,
   "metadata": {},
   "outputs": [
    {
     "name": "stdout",
     "output_type": "stream",
     "text": [
      "lhss_deriv =  [rprm, csiprm, s1dots2prm, uprm, omegaprm]\n",
      "rhss_deriv =  [2*x*xprm + 2*y*yprm, pxprm + py*pzprm + pyprm*pz, s1x*s2xprm + s1xprm*s2x + s1y*s2yprm + s1yprm*s2y + s1z*s2zprm + s1zprm*s2z, -rprm/r**2, rprm/(2*sqrt(r))]\n"
     ]
    }
   ],
   "source": [
    "# Derivative simplification function\n",
    "def simplify_deriv(lhss_deriv,rhss_deriv):\n",
    "    # Copy expressions into another array\n",
    "    lhss_deriv_simp = []\n",
    "    rhss_deriv_simp = []\n",
    "    for i in range(len(rhss_deriv)):\n",
    "        lhss_deriv_simp.append(lhss_deriv[i])\n",
    "        rhss_deriv_simp.append(rhss_deriv[i])\n",
    "    # If a right-hand side is 0, substitute value 0 for the corresponding left-hand side in later terms\n",
    "    for i in range(len(rhss_deriv_simp)):\n",
    "        if rhss_deriv_simp[i] == 0:\n",
    "            for j in range(i+1,len(rhss_deriv_simp)):\n",
    "                for var in rhss_deriv_simp[j].free_symbols:\n",
    "                    if str(var) == str(lhss_deriv_simp[i]):\n",
    "                        rhss_deriv_simp[j] = rhss_deriv_simp[j].subs(var,0)\n",
    "    zero_elements_to_remove = []\n",
    "    # Create array of indices for expressions that are zero\n",
    "    for i in range(len(rhss_deriv_simp)):\n",
    "        if rhss_deriv_simp[i] == sp.sympify(0):\n",
    "            zero_elements_to_remove.append(i)\n",
    "\n",
    "    # When removing terms that are zero, we need to take into account their new index (after each removal)\n",
    "    count = 0\n",
    "    for i in range(len(zero_elements_to_remove)):\n",
    "        del lhss_deriv_simp[zero_elements_to_remove[i]+count]\n",
    "        del rhss_deriv_simp[zero_elements_to_remove[i]+count]\n",
    "        count -= 1\n",
    "    return lhss_deriv_simp,rhss_deriv_simp\n",
    "\n",
    "# Step 7: Call the simplication function and then copy results\n",
    "lhss_deriv_simp,rhss_deriv_simp = simplify_deriv(lhss_deriv,rhss_deriv)\n",
    "lhss_deriv = lhss_deriv_simp\n",
    "rhss_deriv = rhss_deriv_simp\n",
    "\n",
    "#TylerK: for debuggin\n",
    "print(\"lhss_deriv = \",lhss_deriv)\n",
    "print(\"rhss_deriv = \",rhss_deriv)"
   ]
  },
  {
   "cell_type": "markdown",
   "metadata": {},
   "source": [
    "<a id='step8'></a>\n",
    "\n",
    "# Step 8: Differentiate with respect to a specific free variable \\[Back to [top](#toc)\\]\n",
    "$$\\label{step8}$$\n",
    "\n",
    "In [Step 6](#step6) we took a generic derivative of each term, assuming it is a function of the varible $\\textrm{xx}$.  We now define a function that will select a specific free variable for differentiation."
   ]
  },
  {
   "cell_type": "code",
   "execution_count": 8,
   "metadata": {},
   "outputs": [],
   "source": [
    "def deriv_onevar(lhss_deriv,rhss_deriv,xprm=0,yprm=0,zprm=0,pxprm=0,pyprm=0,pzprm=0,\n",
    "                 s1xprm=0,s1yprm=0,s1zprm=0,s2xprm=0,s2yprm=0,s2zprm=0):\n",
    "\n",
    "    # Copy expressions into another array\n",
    "    lhss_deriv_new = []\n",
    "    rhss_deriv_new = []\n",
    "    for i in range(len(rhss_deriv)):\n",
    "        lhss_deriv_new.append(lhss_deriv[i])\n",
    "        rhss_deriv_new.append(rhss_deriv[i])\n",
    "    # For each free symbol, replace it with the desired derivative\n",
    "    for i in range(len(rhss_deriv_new)):\n",
    "        for var in rhss_deriv_new[i].free_symbols:\n",
    "            if str(var)==\"xprm\":\n",
    "                rhss_deriv_new[i] = rhss_deriv_new[i].subs(var,xprm)\n",
    "            elif str(var)==\"yprm\":\n",
    "                rhss_deriv_new[i] = rhss_deriv_new[i].subs(var,yprm)\n",
    "            elif str(var)==\"zprm\":\n",
    "                rhss_deriv_new[i] = rhss_deriv_new[i].subs(var,zprm)\n",
    "            elif str(var)==\"pxprm\":\n",
    "                rhss_deriv_new[i] = rhss_deriv_new[i].subs(var,pxprm)\n",
    "            elif str(var)==\"pyprm\":\n",
    "                rhss_deriv_new[i] = rhss_deriv_new[i].subs(var,pyprm)\n",
    "            elif str(var)==\"pzprm\":\n",
    "                rhss_deriv_new[i] = rhss_deriv_new[i].subs(var,pzprm)\n",
    "            elif str(var)==\"s1xprm\":\n",
    "                rhss_deriv_new[i] = rhss_deriv_new[i].subs(var,s1xprm)\n",
    "            elif str(var)==\"s1yprm\":\n",
    "                rhss_deriv_new[i] = rhss_deriv_new[i].subs(var,s1yprm)\n",
    "            elif str(var)==\"s1zprm\":\n",
    "                rhss_deriv_new[i] = rhss_deriv_new[i].subs(var,s1zprm)\n",
    "            elif str(var)==\"s2xprm\":\n",
    "                rhss_deriv_new[i] = rhss_deriv_new[i].subs(var,s2xprm)\n",
    "            elif str(var)==\"s2yprm\":\n",
    "                rhss_deriv_new[i] = rhss_deriv_new[i].subs(var,s2yprm)\n",
    "            elif str(var)==\"s2zprm\":\n",
    "                rhss_deriv_new[i] = rhss_deriv_new[i].subs(var,s2zprm)\n",
    "    # Simplify derivative expressions again\n",
    "    lhss_deriv_simp,rhss_deriv_simp = simplify_deriv(lhss_deriv_new,rhss_deriv_new)\n",
    "    return lhss_deriv_simp,rhss_deriv_simp\n",
    "\n",
    "#def deriv_onevar_test(lhss_deriv,rhss_deriv,variable_list,variable):\n",
    "def deriv_onevar_test(lhss_deriv,rhss_deriv,variable_list,index):\n",
    "    variableprm_list = []\n",
    "    for variable in variable_list:\n",
    "        variableprm_list.append(str(variable)+\"prm\")\n",
    "\n",
    "    # Copy expressions into another array\n",
    "    lhss_deriv_new = []\n",
    "    rhss_deriv_new = []\n",
    "    for i in range(len(rhss_deriv)):\n",
    "        lhss_deriv_new.append(lhss_deriv[i])\n",
    "        rhss_deriv_new.append(rhss_deriv[i])\n",
    "    # For each free symbol, replace it with the desired derivative\n",
    "    for i in range(len(rhss_deriv_new)):\n",
    "        #for var in rhss_deriv_new[i].free_symbols:\n",
    "        #for var in variable_list:\n",
    "        for var in variableprm_list:\n",
    "            if variableprm_list.index(str(var))==index:\n",
    "            #if var==(variable+\"prm\"):\n",
    "                rhss_deriv_new[i] = rhss_deriv_new[i].subs(var,1)\n",
    "            else:\n",
    "                rhss_deriv_new[i] = rhss_deriv_new[i].subs(var,0)\n",
    "    # Simplify derivative expressions again\n",
    "    lhss_deriv_simp,rhss_deriv_simp = simplify_deriv(lhss_deriv_new,rhss_deriv_new)\n",
    "    return lhss_deriv_simp,rhss_deriv_simp"
   ]
  },
  {
   "cell_type": "markdown",
   "metadata": {},
   "source": [
    "<a id='step9'></a>\n",
    "\n",
    "# Step 9: Compute derivatives with respect to each free variable \\[Back to [top](#toc)\\]\n",
    "$$\\label{step9}$$\n",
    "\n",
    "This needs to be made into a loop!"
   ]
  },
  {
   "cell_type": "code",
   "execution_count": 9,
   "metadata": {},
   "outputs": [
    {
     "name": "stdout",
     "output_type": "stream",
     "text": [
      "New routine\n",
      "left-hand side is [rprm, uprm, omegaprm]\n",
      "right-hand side is [2*x, -rprm/r**2, rprm/(2*sqrt(r))]\n",
      "left-hand side is [rprm, uprm, omegaprm]\n",
      "right-hand side is [2*y, -rprm/r**2, rprm/(2*sqrt(r))]\n",
      "left-hand side is []\n",
      "right-hand side is []\n",
      "left-hand side is [csiprm]\n",
      "right-hand side is [1]\n",
      "left-hand side is [csiprm]\n",
      "right-hand side is [pz]\n",
      "left-hand side is [csiprm]\n",
      "right-hand side is [py]\n",
      "left-hand side is [s1dots2prm]\n",
      "right-hand side is [s2x]\n",
      "left-hand side is [s1dots2prm]\n",
      "right-hand side is [s2y]\n",
      "left-hand side is [s1dots2prm]\n",
      "right-hand side is [s2z]\n",
      "left-hand side is [s1dots2prm]\n",
      "right-hand side is [s1x]\n",
      "left-hand side is [s1dots2prm]\n",
      "right-hand side is [s1y]\n",
      "left-hand side is [s1dots2prm]\n",
      "right-hand side is [s1z]\n",
      "left-hand side {'z': [], 's1x': [s1dots2prm], 's2y': [s1dots2prm], 'py': [csiprm], 'pz': [csiprm], 's2x': [s1dots2prm], 'px': [csiprm], 's1y': [s1dots2prm], 's1z': [s1dots2prm], 'x': [rprm, uprm, omegaprm], 'y': [rprm, uprm, omegaprm], 's2z': [s1dots2prm]}\n",
      "right-hand side {'z': [], 's1x': [s2x], 's2y': [s1y], 'py': [pz], 'pz': [py], 's2x': [s1x], 'px': [1], 's1y': [s2y], 's1z': [s2z], 'x': [2*x, -rprm/r**2, rprm/(2*sqrt(r))], 'y': [2*y, -rprm/r**2, rprm/(2*sqrt(r))], 's2z': [s1z]}\n",
      "Old routine\n",
      "left-hand side is [rprm, uprm, omegaprm]\n",
      "right-hand side is [2*x, -rprm/r**2, rprm/(2*sqrt(r))]\n"
     ]
    }
   ],
   "source": [
    "print(\"New routine\")\n",
    "#lhss_derivative = []\n",
    "#rhss_derivative = []\n",
    "lhss_derivative = {}\n",
    "rhss_derivative = {}\n",
    "for index in range(len(dynamic_variables)):\n",
    "#for squirtle in dynamic_variables:\n",
    "    lhss_temp,rhss_temp = deriv_onevar_test(lhss_deriv,rhss_deriv,dynamic_variables,index)\n",
    "    #lhss_derivative,rhss_derivative = deriv_onevar_test(lhss_deriv,rhss_deriv,dynamic_variables,index)\n",
    "    #lhss_derivative[dynamic_variables[index]],rhss_derivative[dynamic_variables[index]] = deriv_onevar_test(lhss_deriv,rhss_deriv,dynamic_variables,index)\n",
    "    #lhss_deriv_partial,rhss_deriv_partial = deriv_onevar_test(lhss_deriv,rhss_deriv,dynamic_variables,index)\n",
    "    #lhss_derivative.append(lhss_deriv_partial)\n",
    "    #rhss_derivative.append(rhss_deriv_partial)\n",
    "    #TylerK: for debuggin\n",
    "    lhss_derivative[dynamic_variables[index]] = lhss_temp\n",
    "    rhss_derivative[dynamic_variables[index]] = rhss_temp\n",
    "    print(\"left-hand side is\", lhss_temp)\n",
    "    print(\"right-hand side is\", rhss_temp)\n",
    "print(\"left-hand side\", lhss_derivative)\n",
    "print(\"right-hand side\", rhss_derivative)\n",
    "\n",
    "print(\"Old routine\")\n",
    "lhss_deriv_x,rhss_deriv_x = deriv_onevar(lhss_deriv,rhss_deriv, xprm=1,yprm=0,zprm=0,pxprm=0,pyprm=0,pzprm=0,\n",
    "                                         s1xprm=0,s1yprm=0,s1zprm=0,s2xprm=0,s2yprm=0,s2zprm=0)\n",
    "lhss_deriv_y,rhss_deriv_y = deriv_onevar(lhss_deriv,rhss_deriv,xprm=0,yprm=1,zprm=0,pxprm=0,pyprm=0,pzprm=0,\n",
    "                                         s1xprm=0,s1yprm=0,s1zprm=0,s2xprm=0,s2yprm=0,s2zprm=0)\n",
    "lhss_deriv_z,rhss_deriv_z = deriv_onevar(lhss_deriv,rhss_deriv,xprm=0,yprm=0,zprm=1,pxprm=0,pyprm=0,pzprm=0,\n",
    "                                         s1xprm=0,s1yprm=0,s1zprm=0,s2xprm=0,s2yprm=0,s2zprm=0)\n",
    "lhss_deriv_px,rhss_deriv_px = deriv_onevar(lhss_deriv,rhss_deriv,xprm=0,yprm=0,zprm=0,pxprm=1,pyprm=0,pzprm=0,\n",
    "                                           s1xprm=0,s1yprm=0,s1zprm=0,s2xprm=0,s2yprm=0,s2zprm=0)\n",
    "lhss_deriv_py,rhss_deriv_py = deriv_onevar(lhss_deriv,rhss_deriv,xprm=0,yprm=0,zprm=0,pxprm=0,pyprm=1,pzprm=0,\n",
    "                                           s1xprm=0,s1yprm=0,s1zprm=0,s2xprm=0,s2yprm=0,s2zprm=0)\n",
    "lhss_deriv_pz,rhss_deriv_pz = deriv_onevar(lhss_deriv,rhss_deriv,xprm=0,yprm=0,zprm=0,pxprm=0,pyprm=1,pzprm=1,\n",
    "                                           s1xprm=0,s1yprm=0,s1zprm=0,s2xprm=0,s2yprm=0,s2zprm=0)\n",
    "lhss_deriv_s1x,rhss_deriv_s1x = deriv_onevar(lhss_deriv,rhss_deriv, xprm=0,yprm=0,zprm=0,pxprm=0,pyprm=0,pzprm=0,\n",
    "                                             s1xprm=1,s1yprm=0,s1zprm=0,s2xprm=0,s2yprm=0,s2zprm=0)\n",
    "lhss_deriv_s1y,rhss_deriv_s1y = deriv_onevar(lhss_deriv,rhss_deriv,xprm=0,yprm=0,zprm=0,pxprm=0,pyprm=0,pzprm=0,\n",
    "                                             s1xprm=0,s1yprm=1,s1zprm=0,s2xprm=0,s2yprm=0,s2zprm=0)\n",
    "lhss_deriv_s1z,rhss_deriv_s1z = deriv_onevar(lhss_deriv,rhss_deriv,xprm=0,yprm=0,zprm=0,pxprm=0,pyprm=0,pzprm=0,\n",
    "                                             s1xprm=0,s1yprm=0,s1zprm=1,s2xprm=0,s2yprm=0,s2zprm=0)\n",
    "lhss_deriv_s2x,rhss_deriv_s2x = deriv_onevar(lhss_deriv,rhss_deriv,xprm=0,yprm=0,zprm=0,pxprm=0,pyprm=0,pzprm=0,\n",
    "                                             s1xprm=0,s1yprm=0,s1zprm=0,s2xprm=1,s2yprm=0,s2zprm=0)\n",
    "lhss_deriv_s2y,rhss_deriv_s2y = deriv_onevar(lhss_deriv,rhss_deriv,xprm=0,yprm=0,zprm=0,pxprm=0,pyprm=0,pzprm=0,\n",
    "                                             s1xprm=0,s1yprm=0,s1zprm=0,s2xprm=0,s2yprm=1,s2zprm=0)\n",
    "lhss_deriv_s2z,rhss_deriv_s2z = deriv_onevar(lhss_deriv,rhss_deriv,xprm=0,yprm=0,zprm=0,pxprm=0,pyprm=0,pzprm=0,\n",
    "                                             s1xprm=0,s1yprm=0,s1zprm=0,s2xprm=0,s2yprm=0,s2zprm=1)\n",
    "#TylerK: for debuggin\n",
    "print(\"left-hand side is\", lhss_deriv_x)\n",
    "print(\"right-hand side is\", rhss_deriv_x)"
   ]
  },
  {
   "cell_type": "markdown",
   "metadata": {},
   "source": [
    "<a id='step10'></a>\n",
    "\n",
    "# Step 10: Output result \\[Back to [top](#toc)\\]\n",
    "$$\\label{step10}$$\n",
    "\n",
    "We write the resulting derivatives in C code."
   ]
  },
  {
   "cell_type": "code",
   "execution_count": 10,
   "metadata": {},
   "outputs": [],
   "source": [
    "for var in dynamic_variables:\n",
    "    with open(\"dHreal_d\"+str(var)+\".txt\", \"w\") as output:\n",
    "        outstring = \"/* SEOBNR Hamiltonian expression: */\\n\"\n",
    "        outstringsp = \"\"\n",
    "        outsplhs = []\n",
    "        outsprhs = []\n",
    "        for i in range(len(lr)):\n",
    "            outstring += outputC(sp.sympify(lr[i].rhs),lr[i].lhs,\"returnstring\",\"outCverbose=False,includebraces=False,CSE_enable=False\")\n",
    "            outstringsp += lr[i].lhs+\" = \"+lr[i].rhs+\"\\n\"\n",
    "            outsplhs.append(sp.sympify(lr[i].lhs))\n",
    "            outsprhs.append(sp.sympify(lr[i].rhs))\n",
    "        outstring += \"\\n\\n\\n/* SEOBNR \\partial_\"+str(var)+\" H expression: */\\n\"\n",
    "        #for i in range(len(lhss_deriv_x)):\n",
    "            #outstring += outputC(rhss_deriv_x[i],str(lhss_deriv_x[i]),\"returnstring\",\"outCverbose=False,includebraces=False,CSE_enable=False\")\n",
    "            #outstringsp += str(lhss_deriv_x[i])+\" = \"+str(rhss_deriv_x[i])+\"\\n\"\n",
    "            #outsplhs.append(lhss_deriv_x[i])\n",
    "            #outsprhs.append(rhss_deriv_x[i])\n",
    "        for i in range(len(lhss_derivative[var])):\n",
    "            outstring += outputC(rhss_derivative[var][i],str(lhss_derivative[var][i]),\"returnstring\",\"outCverbose=False,includebraces=False,CSE_enable=False\")\n",
    "            outstringsp += str(lhss_derivative[var][i])+\" = \"+str(rhss_derivative[var][i])+\"\\n\"\n",
    "            outsplhs.append(lhss_derivative[var][i])\n",
    "            outsprhs.append(rhss_derivative[var][i])\n",
    "        output.write(\"%s\" % outstring)"
   ]
  },
  {
   "cell_type": "markdown",
   "metadata": {},
   "source": [
    "<a id='code_validation'></a>\n",
    "\n",
    "# Step 11: Code Validation against `SEOBNR_Derivative_Routine` NRPy+ module \\[Back to [top](#toc)\\]\n",
    "$$\\label{code_validation}$$"
   ]
  },
  {
   "cell_type": "markdown",
   "metadata": {},
   "source": [
    "<a id='latex_pdf_output'></a>\n",
    "\n",
    "# Step 11: Output this notebook to $\\LaTeX$-formatted PDF file \\[Back to [top](#toc)\\]\n",
    "$$\\label{latex_pdf_output}$$\n",
    "\n",
    "The following code cell converts this Jupyter notebook into a proper, clickable $\\LaTeX$-formatted PDF file. After the cell is successfully run, the generated PDF may be found in the root NRPy+ tutorial directory, with filename\n",
    "[Tutorial-SEOBNR_Derivative_Routine.pdf](Tutorial-SEOBNR_Derivative_Routine.pdf) (Note that clicking on this link may not work; you may need to open the PDF file through another means.)"
   ]
  },
  {
   "cell_type": "code",
   "execution_count": 11,
   "metadata": {},
   "outputs": [
    {
     "name": "stdout",
     "output_type": "stream",
     "text": [
      "Notebook output to PDF is only supported on Linux systems, with pdflatex installed.\n"
     ]
    }
   ],
   "source": [
    "import os,sys                    # Standard Python modules for multiplatform OS-level functions\n",
    "nrpy_dir_path = os.path.join(\"..\")\n",
    "if nrpy_dir_path not in sys.path:\n",
    "    sys.path.append(nrpy_dir_path)\n",
    "import cmdline_helper as cmd    # NRPy+: Multi-platform Python command-line interface\n",
    "cmd.output_Jupyter_notebook_to_LaTeXed_PDF(\"NRPyPN_shortcuts\",location_of_template_file=os.path.join(\"..\"))"
   ]
  }
 ],
 "metadata": {
  "kernelspec": {
   "display_name": "Python 3",
   "language": "python",
   "name": "python3"
  },
  "language_info": {
   "codemirror_mode": {
    "name": "ipython",
    "version": 3
   },
   "file_extension": ".py",
   "mimetype": "text/x-python",
   "name": "python",
   "nbconvert_exporter": "python",
   "pygments_lexer": "ipython3",
   "version": "3.5.2"
  }
 },
 "nbformat": 4,
 "nbformat_minor": 2
}
