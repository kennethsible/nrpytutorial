{
 "cells": [
  {
   "cell_type": "markdown",
   "metadata": {},
   "source": [
    "# `GiRaFFE_NRPy`: Introduction\n",
    "\n",
    "## Authors: Patrick Nelson &\n",
    "\n",
    "`GiRaFFE_NRPy` rewrites the original `GiRaFFE` in a manner made to be more compatible with NRPy+, allowing us to generate large, complicated portions of the code quickly and easily. It solves the equations of General-Relativistic, Force-Free Electrodynamics (GRFFE), an special case of General-Relativistic Magnetohydrodynamics (GRMHD) in which pressures and densities are zero. \n",
    "\n",
    "To do so, initial data must first be generated. Conventionally, this is given in the forms of equations describing the vector potential $A_i$ and electric field $E^i$. From these expressions, $A_i$ is set directly; the magnetic field $B^i$ is computed from $A_i$ analytically and, with $E^i$, used to calculate the initial Valencia three-velocity $\\bar{v}^i$. Then, the densitized Poynting flux $\\tilde{S}_i$ is calculated from $\\bar{v}^i$. \n",
    "\n",
    "At each timestep, the conservative variables $A_i$ and $\\tilde{S}_i$ are advanced through time using the method of lines (MoL). Reconstruction methods, solving the Riemann problem, and finite-differencing methods are used to calculate spatial derivatives, and an RK solver handles the time evolution. Then, we update the primitive variables. $B^i$ is numerically calculated from $A_i$ and fixes are applied to $\\tilde{S}_i$ before calculating $\\bar{v}^i$ at the new timestep. Another algorithm is applied to $\\bar{v}^i$ to preserve current sheets in the $x$-$y$ plane, and $\\tilde{S}_i$ is updated to be consistent with these changes. \n",
    "\n",
    "We must also consider whether we will employ a purely cell-centered approach or a staggered one. Both have their advantages, so ultimately, we will use a combination of them, using the staggered prescription throughout most of the grid for its stability and the unstaggered prescription near coordinate singularities to avoid them. This will require us to create two separate functions to calculate the right-hand sides of $A_k$ and $\\Phi$ as well as for calculating $B^i$ from $A_k$, as will be illustrated in the list below. We will also need separate main drivers because our choice of prescription affects what PPM reconstructions will be done and when they will be needed.\n",
    "\n",
    "**TODO: More background and citations.**"
   ]
  }
 ],
 "metadata": {
  "kernelspec": {
   "display_name": "Python 3",
   "language": "python",
   "name": "python3"
  },
  "language_info": {
   "codemirror_mode": {
    "name": "ipython",
    "version": 3
   },
   "file_extension": ".py",
   "mimetype": "text/x-python",
   "name": "python",
   "nbconvert_exporter": "python",
   "pygments_lexer": "ipython3",
   "version": "3.8.2"
  }
 },
 "nbformat": 4,
 "nbformat_minor": 2
}
